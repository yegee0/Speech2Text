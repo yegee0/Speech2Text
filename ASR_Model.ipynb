{
  "cells": [
    {
      "cell_type": "code",
      "execution_count": null,
      "metadata": {
        "id": "cQRE648lt1EK"
      },
      "outputs": [],
      "source": [
        "!git clone https://github.com/aapetukhov/ASR-DeepSpeech2.git\n",
        "%cd ASR-DeepSpeech2\n",
        "!git checkout lm_beam_search"
      ]
    },
    {
      "cell_type": "code",
      "execution_count": null,
      "metadata": {
        "id": "K7uosfE8t9oW"
      },
      "outputs": [],
      "source": [
        "!pip install -r requirements.txt"
      ]
    },
    {
      "cell_type": "code",
      "execution_count": null,
      "metadata": {
        "id": "WdWwWQgxuJUl"
      },
      "outputs": [],
      "source": [
        "!pip install gdown\n",
        "\n",
        "!gdown 1XpAuRCg8phPTJxmzPyvrAUpc02ZgQC0O  # clean model\n",
        "!gdown 197CiNFeESxA6Mo6S5tv-hV8xF528WUrm  # other model\n",
        "!gdown 1hqkXgR-OENH3uoILTInHCNKbmQFm-5wr  # pretrained LM\n",
        "!gdown 1HhqKQgOE4O-mnTbTm9s1JHMFZQTGpyyf  # lexicon"
      ]
    },
    {
      "cell_type": "code",
      "execution_count": 25,
      "metadata": {
        "id": "jRSKrmhR1J_G"
      },
      "outputs": [],
      "source": [
        "!mkdir -p /content/my-audio\n",
        "!cp /content/harvard1.wav /content/my-audio/\n",
        "!echo \"\" > /content/my-transcripts/harvard1.txt"
      ]
    },
    {
      "cell_type": "code",
      "execution_count": null,
      "metadata": {
        "id": "jzJdkujb2MP9"
      },
      "outputs": [],
      "source": [
        "!python inference.py -cn=inference_clean_local \\\n",
        "  '+datasets.test.audio_dir=/content/my-audio' \\\n",
        "  '+datasets.test.transcription_dir=/content/my-transcripts' \\\n",
        "  '++dataloader.batch_size=1'\n"
      ]
    }
  ],
  "metadata": {
    "colab": {
      "provenance": []
    },
    "kernelspec": {
      "display_name": "Python 3",
      "name": "python3"
    },
    "language_info": {
      "name": "python"
    }
  },
  "nbformat": 4,
  "nbformat_minor": 0
}
